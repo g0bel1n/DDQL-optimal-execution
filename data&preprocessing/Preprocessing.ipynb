{
 "cells": [
  {
   "cell_type": "markdown",
   "id": "d848b8f7",
   "metadata": {},
   "source": [
    "# Preprocessing"
   ]
  },
  {
   "cell_type": "markdown",
   "id": "65e6f30e",
   "metadata": {},
   "source": [
    "Voici les colonnes gardées pour la fin de la préparation des données :\n",
    "\n",
    "- `price`: moyenne entre le `high` et `low` de chaque ligne\n",
    "- `volume`: donnée de volume du dataset de base\n",
    "- `trend`: évolution du cours entre maintenant et t-5h\n",
    "- `quadratic_variation`: cette colonne représente la variation quadratique du cours de l'action au cours des 20 dernières minutes. Elle est calculé en se basant sur les high et low de chaque minute"
   ]
  },
  {
   "cell_type": "markdown",
   "id": "50d8b6b6",
   "metadata": {},
   "source": [
    "import packages\n"
   ]
  },
  {
   "cell_type": "code",
   "execution_count": 72,
   "id": "9e0bd73a",
   "metadata": {},
   "outputs": [],
   "source": [
    "import pandas as pd\n",
    "import numpy as np"
   ]
  },
  {
   "cell_type": "markdown",
   "id": "8956e157",
   "metadata": {},
   "source": [
    "# Import data"
   ]
  },
  {
   "cell_type": "code",
   "execution_count": 108,
   "id": "a5befc87",
   "metadata": {},
   "outputs": [],
   "source": [
    "path = \"BTCUSDT-minutes.csv\"\n",
    "data = pd.read_csv(path)"
   ]
  },
  {
   "cell_type": "code",
   "execution_count": 109,
   "id": "746f4c78",
   "metadata": {},
   "outputs": [
    {
     "name": "stdout",
     "output_type": "stream",
     "text": [
      "<class 'pandas.core.frame.DataFrame'>\n",
      "RangeIndex: 57601 entries, 0 to 57600\n",
      "Data columns (total 6 columns):\n",
      " #   Column     Non-Null Count  Dtype  \n",
      "---  ------     --------------  -----  \n",
      " 0   timestamp  57601 non-null  object \n",
      " 1   open       57601 non-null  float64\n",
      " 2   high       57601 non-null  float64\n",
      " 3   low        57601 non-null  float64\n",
      " 4   close      57601 non-null  float64\n",
      " 5   volume     57601 non-null  float64\n",
      "dtypes: float64(5), object(1)\n",
      "memory usage: 2.6+ MB\n"
     ]
    }
   ],
   "source": [
    "data.info()"
   ]
  },
  {
   "cell_type": "code",
   "execution_count": 110,
   "id": "7110b9ee",
   "metadata": {},
   "outputs": [],
   "source": [
    "data['timestamp'] = pd.to_datetime(data['timestamp'])"
   ]
  },
  {
   "cell_type": "code",
   "execution_count": 111,
   "id": "d44cec96",
   "metadata": {},
   "outputs": [
    {
     "data": {
      "text/html": [
       "<div>\n",
       "<style scoped>\n",
       "    .dataframe tbody tr th:only-of-type {\n",
       "        vertical-align: middle;\n",
       "    }\n",
       "\n",
       "    .dataframe tbody tr th {\n",
       "        vertical-align: top;\n",
       "    }\n",
       "\n",
       "    .dataframe thead th {\n",
       "        text-align: right;\n",
       "    }\n",
       "</style>\n",
       "<table border=\"1\" class=\"dataframe\">\n",
       "  <thead>\n",
       "    <tr style=\"text-align: right;\">\n",
       "      <th></th>\n",
       "      <th>timestamp</th>\n",
       "      <th>open</th>\n",
       "      <th>high</th>\n",
       "      <th>low</th>\n",
       "      <th>close</th>\n",
       "      <th>volume</th>\n",
       "    </tr>\n",
       "  </thead>\n",
       "  <tbody>\n",
       "    <tr>\n",
       "      <th>0</th>\n",
       "      <td>2023-02-01 00:00:00</td>\n",
       "      <td>23125.13</td>\n",
       "      <td>23140.47</td>\n",
       "      <td>23124.41</td>\n",
       "      <td>23133.74</td>\n",
       "      <td>199.09155</td>\n",
       "    </tr>\n",
       "    <tr>\n",
       "      <th>1</th>\n",
       "      <td>2023-02-01 00:01:00</td>\n",
       "      <td>23133.74</td>\n",
       "      <td>23137.00</td>\n",
       "      <td>23123.15</td>\n",
       "      <td>23123.24</td>\n",
       "      <td>153.92866</td>\n",
       "    </tr>\n",
       "    <tr>\n",
       "      <th>2</th>\n",
       "      <td>2023-02-01 00:02:00</td>\n",
       "      <td>23123.16</td>\n",
       "      <td>23145.99</td>\n",
       "      <td>23123.01</td>\n",
       "      <td>23142.98</td>\n",
       "      <td>204.22769</td>\n",
       "    </tr>\n",
       "    <tr>\n",
       "      <th>3</th>\n",
       "      <td>2023-02-01 00:03:00</td>\n",
       "      <td>23144.00</td>\n",
       "      <td>23168.90</td>\n",
       "      <td>23141.75</td>\n",
       "      <td>23157.56</td>\n",
       "      <td>385.73800</td>\n",
       "    </tr>\n",
       "    <tr>\n",
       "      <th>4</th>\n",
       "      <td>2023-02-01 00:04:00</td>\n",
       "      <td>23158.68</td>\n",
       "      <td>23159.26</td>\n",
       "      <td>23131.97</td>\n",
       "      <td>23133.11</td>\n",
       "      <td>209.27799</td>\n",
       "    </tr>\n",
       "  </tbody>\n",
       "</table>\n",
       "</div>"
      ],
      "text/plain": [
       "            timestamp      open      high       low     close     volume\n",
       "0 2023-02-01 00:00:00  23125.13  23140.47  23124.41  23133.74  199.09155\n",
       "1 2023-02-01 00:01:00  23133.74  23137.00  23123.15  23123.24  153.92866\n",
       "2 2023-02-01 00:02:00  23123.16  23145.99  23123.01  23142.98  204.22769\n",
       "3 2023-02-01 00:03:00  23144.00  23168.90  23141.75  23157.56  385.73800\n",
       "4 2023-02-01 00:04:00  23158.68  23159.26  23131.97  23133.11  209.27799"
      ]
     },
     "execution_count": 111,
     "metadata": {},
     "output_type": "execute_result"
    }
   ],
   "source": [
    "data.head(5)"
   ]
  },
  {
   "cell_type": "markdown",
   "id": "baf8c755",
   "metadata": {},
   "source": [
    "# Data Engineering"
   ]
  },
  {
   "cell_type": "code",
   "execution_count": 112,
   "id": "7fbab714",
   "metadata": {},
   "outputs": [
    {
     "data": {
      "text/html": [
       "<div>\n",
       "<style scoped>\n",
       "    .dataframe tbody tr th:only-of-type {\n",
       "        vertical-align: middle;\n",
       "    }\n",
       "\n",
       "    .dataframe tbody tr th {\n",
       "        vertical-align: top;\n",
       "    }\n",
       "\n",
       "    .dataframe thead th {\n",
       "        text-align: right;\n",
       "    }\n",
       "</style>\n",
       "<table border=\"1\" class=\"dataframe\">\n",
       "  <thead>\n",
       "    <tr style=\"text-align: right;\">\n",
       "      <th></th>\n",
       "      <th>timestamp</th>\n",
       "      <th>open</th>\n",
       "      <th>high</th>\n",
       "      <th>low</th>\n",
       "      <th>close</th>\n",
       "      <th>volume</th>\n",
       "      <th>price</th>\n",
       "    </tr>\n",
       "    <tr>\n",
       "      <th>timestamp</th>\n",
       "      <th></th>\n",
       "      <th></th>\n",
       "      <th></th>\n",
       "      <th></th>\n",
       "      <th></th>\n",
       "      <th></th>\n",
       "      <th></th>\n",
       "    </tr>\n",
       "  </thead>\n",
       "  <tbody>\n",
       "    <tr>\n",
       "      <th>2023-02-01 00:00:00</th>\n",
       "      <td>2023-02-01 00:00:00</td>\n",
       "      <td>23125.13</td>\n",
       "      <td>23140.47</td>\n",
       "      <td>23124.41</td>\n",
       "      <td>23133.74</td>\n",
       "      <td>199.09155</td>\n",
       "      <td>23132.440</td>\n",
       "    </tr>\n",
       "    <tr>\n",
       "      <th>2023-02-01 00:01:00</th>\n",
       "      <td>2023-02-01 00:01:00</td>\n",
       "      <td>23133.74</td>\n",
       "      <td>23137.00</td>\n",
       "      <td>23123.15</td>\n",
       "      <td>23123.24</td>\n",
       "      <td>153.92866</td>\n",
       "      <td>23130.075</td>\n",
       "    </tr>\n",
       "    <tr>\n",
       "      <th>2023-02-01 00:02:00</th>\n",
       "      <td>2023-02-01 00:02:00</td>\n",
       "      <td>23123.16</td>\n",
       "      <td>23145.99</td>\n",
       "      <td>23123.01</td>\n",
       "      <td>23142.98</td>\n",
       "      <td>204.22769</td>\n",
       "      <td>23134.500</td>\n",
       "    </tr>\n",
       "    <tr>\n",
       "      <th>2023-02-01 00:03:00</th>\n",
       "      <td>2023-02-01 00:03:00</td>\n",
       "      <td>23144.00</td>\n",
       "      <td>23168.90</td>\n",
       "      <td>23141.75</td>\n",
       "      <td>23157.56</td>\n",
       "      <td>385.73800</td>\n",
       "      <td>23155.325</td>\n",
       "    </tr>\n",
       "    <tr>\n",
       "      <th>2023-02-01 00:04:00</th>\n",
       "      <td>2023-02-01 00:04:00</td>\n",
       "      <td>23158.68</td>\n",
       "      <td>23159.26</td>\n",
       "      <td>23131.97</td>\n",
       "      <td>23133.11</td>\n",
       "      <td>209.27799</td>\n",
       "      <td>23145.615</td>\n",
       "    </tr>\n",
       "  </tbody>\n",
       "</table>\n",
       "</div>"
      ],
      "text/plain": [
       "                              timestamp      open      high       low  \\\n",
       "timestamp                                                               \n",
       "2023-02-01 00:00:00 2023-02-01 00:00:00  23125.13  23140.47  23124.41   \n",
       "2023-02-01 00:01:00 2023-02-01 00:01:00  23133.74  23137.00  23123.15   \n",
       "2023-02-01 00:02:00 2023-02-01 00:02:00  23123.16  23145.99  23123.01   \n",
       "2023-02-01 00:03:00 2023-02-01 00:03:00  23144.00  23168.90  23141.75   \n",
       "2023-02-01 00:04:00 2023-02-01 00:04:00  23158.68  23159.26  23131.97   \n",
       "\n",
       "                        close     volume      price  \n",
       "timestamp                                            \n",
       "2023-02-01 00:00:00  23133.74  199.09155  23132.440  \n",
       "2023-02-01 00:01:00  23123.24  153.92866  23130.075  \n",
       "2023-02-01 00:02:00  23142.98  204.22769  23134.500  \n",
       "2023-02-01 00:03:00  23157.56  385.73800  23155.325  \n",
       "2023-02-01 00:04:00  23133.11  209.27799  23145.615  "
      ]
     },
     "execution_count": 112,
     "metadata": {},
     "output_type": "execute_result"
    }
   ],
   "source": [
    "data[\"price\"] = (data[\"high\"] + data[\"low\"])/2\n",
    "data.set_index('timestamp', inplace=True, drop=False)\n",
    "data.head(5)"
   ]
  },
  {
   "cell_type": "code",
   "execution_count": 113,
   "id": "6bf5ec52",
   "metadata": {},
   "outputs": [],
   "source": [
    "# Calcul de l'écart au carré max chaque minute\n",
    "data[\"value_var\"] = (data[\"high\"] - data[\"low\"])**2\n",
    "# Réalisation d'une moyenne pour obtenir la variance et ainsi la valeur souhaitée\n",
    "data[\"quadratic_variation\"] = data[\"value_var\"].rolling(\"20min\", center=False).mean()"
   ]
  },
  {
   "cell_type": "code",
   "execution_count": 114,
   "id": "81953717",
   "metadata": {},
   "outputs": [],
   "source": [
    "data[\"trend\"] =  (data['price'] - data['price'].shift(300))/data['price']"
   ]
  },
  {
   "cell_type": "code",
   "execution_count": 115,
   "id": "234c32bd",
   "metadata": {},
   "outputs": [
    {
     "data": {
      "text/plain": [
       "Index(['timestamp', 'open', 'high', 'low', 'close', 'volume', 'price',\n",
       "       'value_var', 'quadratic_variation', 'trend'],\n",
       "      dtype='object')"
      ]
     },
     "execution_count": 115,
     "metadata": {},
     "output_type": "execute_result"
    }
   ],
   "source": [
    "data.columns"
   ]
  },
  {
   "cell_type": "code",
   "execution_count": 116,
   "id": "f52dffbe",
   "metadata": {},
   "outputs": [
    {
     "data": {
      "text/html": [
       "<div>\n",
       "<style scoped>\n",
       "    .dataframe tbody tr th:only-of-type {\n",
       "        vertical-align: middle;\n",
       "    }\n",
       "\n",
       "    .dataframe tbody tr th {\n",
       "        vertical-align: top;\n",
       "    }\n",
       "\n",
       "    .dataframe thead th {\n",
       "        text-align: right;\n",
       "    }\n",
       "</style>\n",
       "<table border=\"1\" class=\"dataframe\">\n",
       "  <thead>\n",
       "    <tr style=\"text-align: right;\">\n",
       "      <th></th>\n",
       "      <th>timestamp</th>\n",
       "      <th>volume</th>\n",
       "      <th>price</th>\n",
       "      <th>quadratic_variation</th>\n",
       "      <th>trend</th>\n",
       "    </tr>\n",
       "    <tr>\n",
       "      <th>timestamp</th>\n",
       "      <th></th>\n",
       "      <th></th>\n",
       "      <th></th>\n",
       "      <th></th>\n",
       "      <th></th>\n",
       "    </tr>\n",
       "  </thead>\n",
       "  <tbody>\n",
       "    <tr>\n",
       "      <th>2023-02-01 00:00:00</th>\n",
       "      <td>2023-02-01 00:00:00</td>\n",
       "      <td>199.09155</td>\n",
       "      <td>23132.440</td>\n",
       "      <td>257.923600</td>\n",
       "      <td>NaN</td>\n",
       "    </tr>\n",
       "    <tr>\n",
       "      <th>2023-02-01 00:01:00</th>\n",
       "      <td>2023-02-01 00:01:00</td>\n",
       "      <td>153.92866</td>\n",
       "      <td>23130.075</td>\n",
       "      <td>224.873050</td>\n",
       "      <td>NaN</td>\n",
       "    </tr>\n",
       "    <tr>\n",
       "      <th>2023-02-01 00:02:00</th>\n",
       "      <td>2023-02-01 00:02:00</td>\n",
       "      <td>204.22769</td>\n",
       "      <td>23134.500</td>\n",
       "      <td>325.942167</td>\n",
       "      <td>NaN</td>\n",
       "    </tr>\n",
       "    <tr>\n",
       "      <th>2023-02-01 00:03:00</th>\n",
       "      <td>2023-02-01 00:03:00</td>\n",
       "      <td>385.73800</td>\n",
       "      <td>23155.325</td>\n",
       "      <td>428.737250</td>\n",
       "      <td>NaN</td>\n",
       "    </tr>\n",
       "    <tr>\n",
       "      <th>2023-02-01 00:04:00</th>\n",
       "      <td>2023-02-01 00:04:00</td>\n",
       "      <td>209.27799</td>\n",
       "      <td>23145.615</td>\n",
       "      <td>491.938620</td>\n",
       "      <td>NaN</td>\n",
       "    </tr>\n",
       "    <tr>\n",
       "      <th>...</th>\n",
       "      <td>...</td>\n",
       "      <td>...</td>\n",
       "      <td>...</td>\n",
       "      <td>...</td>\n",
       "      <td>...</td>\n",
       "    </tr>\n",
       "    <tr>\n",
       "      <th>2023-03-12 23:56:00</th>\n",
       "      <td>2023-03-12 23:56:00</td>\n",
       "      <td>703.64043</td>\n",
       "      <td>22010.200</td>\n",
       "      <td>6709.428905</td>\n",
       "      <td>0.039253</td>\n",
       "    </tr>\n",
       "    <tr>\n",
       "      <th>2023-03-12 23:57:00</th>\n",
       "      <td>2023-03-12 23:57:00</td>\n",
       "      <td>615.34747</td>\n",
       "      <td>22019.410</td>\n",
       "      <td>6697.022120</td>\n",
       "      <td>0.039102</td>\n",
       "    </tr>\n",
       "    <tr>\n",
       "      <th>2023-03-12 23:58:00</th>\n",
       "      <td>2023-03-12 23:58:00</td>\n",
       "      <td>538.69132</td>\n",
       "      <td>22002.065</td>\n",
       "      <td>6727.026920</td>\n",
       "      <td>0.038486</td>\n",
       "    </tr>\n",
       "    <tr>\n",
       "      <th>2023-03-12 23:59:00</th>\n",
       "      <td>2023-03-12 23:59:00</td>\n",
       "      <td>460.53719</td>\n",
       "      <td>21988.060</td>\n",
       "      <td>6722.058495</td>\n",
       "      <td>0.040099</td>\n",
       "    </tr>\n",
       "    <tr>\n",
       "      <th>2023-03-13 00:00:00</th>\n",
       "      <td>2023-03-13 00:00:00</td>\n",
       "      <td>1375.92258</td>\n",
       "      <td>22042.000</td>\n",
       "      <td>7404.059850</td>\n",
       "      <td>0.043017</td>\n",
       "    </tr>\n",
       "  </tbody>\n",
       "</table>\n",
       "<p>57601 rows × 5 columns</p>\n",
       "</div>"
      ],
      "text/plain": [
       "                              timestamp      volume      price  \\\n",
       "timestamp                                                        \n",
       "2023-02-01 00:00:00 2023-02-01 00:00:00   199.09155  23132.440   \n",
       "2023-02-01 00:01:00 2023-02-01 00:01:00   153.92866  23130.075   \n",
       "2023-02-01 00:02:00 2023-02-01 00:02:00   204.22769  23134.500   \n",
       "2023-02-01 00:03:00 2023-02-01 00:03:00   385.73800  23155.325   \n",
       "2023-02-01 00:04:00 2023-02-01 00:04:00   209.27799  23145.615   \n",
       "...                                 ...         ...        ...   \n",
       "2023-03-12 23:56:00 2023-03-12 23:56:00   703.64043  22010.200   \n",
       "2023-03-12 23:57:00 2023-03-12 23:57:00   615.34747  22019.410   \n",
       "2023-03-12 23:58:00 2023-03-12 23:58:00   538.69132  22002.065   \n",
       "2023-03-12 23:59:00 2023-03-12 23:59:00   460.53719  21988.060   \n",
       "2023-03-13 00:00:00 2023-03-13 00:00:00  1375.92258  22042.000   \n",
       "\n",
       "                     quadratic_variation     trend  \n",
       "timestamp                                           \n",
       "2023-02-01 00:00:00           257.923600       NaN  \n",
       "2023-02-01 00:01:00           224.873050       NaN  \n",
       "2023-02-01 00:02:00           325.942167       NaN  \n",
       "2023-02-01 00:03:00           428.737250       NaN  \n",
       "2023-02-01 00:04:00           491.938620       NaN  \n",
       "...                                  ...       ...  \n",
       "2023-03-12 23:56:00          6709.428905  0.039253  \n",
       "2023-03-12 23:57:00          6697.022120  0.039102  \n",
       "2023-03-12 23:58:00          6727.026920  0.038486  \n",
       "2023-03-12 23:59:00          6722.058495  0.040099  \n",
       "2023-03-13 00:00:00          7404.059850  0.043017  \n",
       "\n",
       "[57601 rows x 5 columns]"
      ]
     },
     "execution_count": 116,
     "metadata": {},
     "output_type": "execute_result"
    }
   ],
   "source": [
    "column_to_keep = ['timestamp','volume', 'price', 'quadratic_variation', 'trend']\n",
    "data = data[column_to_keep]\n",
    "data"
   ]
  },
  {
   "cell_type": "markdown",
   "id": "ea11f688",
   "metadata": {},
   "source": [
    "# Exportation en csv"
   ]
  },
  {
   "cell_type": "code",
   "execution_count": 117,
   "id": "25118050",
   "metadata": {},
   "outputs": [],
   "source": [
    "data.to_csv('btc_clean.csv', index=False)"
   ]
  },
  {
   "cell_type": "code",
   "execution_count": null,
   "id": "e3fabbe4",
   "metadata": {},
   "outputs": [],
   "source": []
  },
  {
   "cell_type": "code",
   "execution_count": null,
   "id": "2aa3df0f",
   "metadata": {},
   "outputs": [],
   "source": []
  },
  {
   "cell_type": "code",
   "execution_count": null,
   "id": "4be9139f",
   "metadata": {},
   "outputs": [],
   "source": []
  },
  {
   "cell_type": "code",
   "execution_count": null,
   "id": "31a0e34f",
   "metadata": {},
   "outputs": [],
   "source": []
  },
  {
   "cell_type": "code",
   "execution_count": null,
   "id": "533feaef",
   "metadata": {},
   "outputs": [],
   "source": []
  },
  {
   "cell_type": "code",
   "execution_count": null,
   "id": "8ccd141c",
   "metadata": {},
   "outputs": [],
   "source": []
  }
 ],
 "metadata": {
  "hide_input": false,
  "kernelspec": {
   "display_name": "Python 3",
   "language": "python",
   "name": "python3"
  },
  "language_info": {
   "codemirror_mode": {
    "name": "ipython",
    "version": 3
   },
   "file_extension": ".py",
   "mimetype": "text/x-python",
   "name": "python",
   "nbconvert_exporter": "python",
   "pygments_lexer": "ipython3",
   "version": "3.8.15"
  },
  "toc": {
   "base_numbering": 1,
   "nav_menu": {},
   "number_sections": true,
   "sideBar": true,
   "skip_h1_title": false,
   "title_cell": "Table of Contents",
   "title_sidebar": "Contents",
   "toc_cell": false,
   "toc_position": {},
   "toc_section_display": true,
   "toc_window_display": false
  }
 },
 "nbformat": 4,
 "nbformat_minor": 5
}
