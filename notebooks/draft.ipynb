{
 "cells": [
  {
   "cell_type": "code",
   "execution_count": 1,
   "metadata": {},
   "outputs": [],
   "source": [
    "import sys \n",
    "import os\n",
    "\n",
    "# Add the parent directory to the path if it's not already there\n",
    "if os.path.abspath('..') not in sys.path:\n",
    "    sys.path.append(os.path.abspath('..'))"
   ]
  },
  {
   "cell_type": "code",
   "execution_count": 2,
   "metadata": {},
   "outputs": [],
   "source": [
    "%load_ext autoreload\n",
    "%autoreload 2"
   ]
  },
  {
   "cell_type": "code",
   "execution_count": 3,
   "metadata": {},
   "outputs": [],
   "source": [
    "from ddql_optimal_execution import DDQL, MarketEnvironnement, ExperienceReplay, TWAP\n",
    "import matplotlib.pyplot as plt"
   ]
  },
  {
   "cell_type": "code",
   "execution_count": 15,
   "metadata": {},
   "outputs": [],
   "source": [
    "env = MarketEnvironnement(initial_inventory=500, multi_episodes=True)"
   ]
  },
  {
   "cell_type": "code",
   "execution_count": 16,
   "metadata": {},
   "outputs": [
    {
     "name": "stdout",
     "output_type": "stream",
     "text": [
      "Using cpu device\n"
     ]
    }
   ],
   "source": [
    "agent = DDQL(state_size=env.state_size, initial_budget=env.initial_inventory, horizon=env.horizon)"
   ]
  },
  {
   "cell_type": "code",
   "execution_count": 6,
   "metadata": {},
   "outputs": [],
   "source": [
    "exp_replay = ExperienceReplay(capacity=10000)"
   ]
  },
  {
   "cell_type": "code",
   "execution_count": 7,
   "metadata": {},
   "outputs": [],
   "source": [
    "from ddql_optimal_execution.trainer import Trainer"
   ]
  },
  {
   "cell_type": "code",
   "execution_count": 17,
   "metadata": {},
   "outputs": [],
   "source": [
    "trainer = Trainer(agent, env, capacity=10000)"
   ]
  },
  {
   "cell_type": "code",
   "execution_count": 9,
   "metadata": {},
   "outputs": [
    {
     "name": "stdout",
     "output_type": "stream",
     "text": [
      "120\n"
     ]
    }
   ],
   "source": [
    "print(len(env.historical_data_series))"
   ]
  },
  {
   "cell_type": "code",
   "execution_count": 14,
   "metadata": {},
   "outputs": [],
   "source": [
    "mem = trainer.exp_replay.memory"
   ]
  },
  {
   "cell_type": "code",
   "execution_count": 18,
   "metadata": {},
   "outputs": [],
   "source": [
    "trainer.exp_replay.memory = mem"
   ]
  },
  {
   "cell_type": "code",
   "execution_count": 11,
   "metadata": {},
   "outputs": [
    {
     "name": "stderr",
     "output_type": "stream",
     "text": [
      "/Users/g0bel1n/DDQL-optimal-execution/ddql_optimal_execution/trainer/_trainer.py:73: MaxStepsTooLowWarning: Max steps is too low. It is set to 10000.\n",
      "  warnings.warn(MaxStepsTooLowWarning(max_steps))\n",
      " 40%|████      | 4029/10000 [00:49<01:13, 81.58it/s]\n"
     ]
    }
   ],
   "source": [
    "trainer.fill_exp_replay(max_steps=1000)"
   ]
  },
  {
   "cell_type": "code",
   "execution_count": 19,
   "metadata": {},
   "outputs": [
    {
     "data": {
      "text/plain": [
       "array([ExperienceDict({'state': {'Price': 0.5378177187074084, 'volume': -0.2569438267854841, 'Trend': -0.1962333071071724, 'period': 0.0, 'QV': -0.8428167840414714, 'inventory': 500}, 'action': 0, 'reward': -20.870997013273573, 'next_state': {'Price': 0.48120427064921306, 'volume': -0.820344358936778, 'Trend': 0.12065975571920912, 'period': 1.0, 'QV': 0.5899712445949843, 'inventory': 500}, 'dist2Horizon': 4.0}),\n",
       "       ExperienceDict({'state': {'Price': 0.48120427064921306, 'volume': -0.820344358936778, 'Trend': 0.12065975571920912, 'period': 1.0, 'QV': 0.5899712445949843, 'inventory': 500}, 'action': 0, 'reward': -889.5538593824018, 'next_state': {'Price': -1.6843759388696087, 'volume': 2.22263021830695, 'Trend': -1.211254571843905, 'period': 2.0, 'QV': -0.24196316058115214, 'inventory': 500}, 'dist2Horizon': 3.0}),\n",
       "       ExperienceDict({'state': {'Price': -1.6843759388696087, 'volume': 2.22263021830695, 'Trend': -1.211254571843905, 'period': 2.0, 'QV': -0.24196316058115214, 'inventory': 500}, 'action': 0, 'reward': 101.80691661854677, 'next_state': {'Price': -1.5638291370304989, 'volume': -0.4647533527182599, 'Trend': -1.4063898047599424, 'period': 3.0, 'QV': 0.2994690687097013, 'inventory': 500}, 'dist2Horizon': 2.0}),\n",
       "       ...,\n",
       "       ExperienceDict({'state': {'Price': 0.017635309406452252, 'volume': -0.8309537142998622, 'Trend': -0.8129941695338975, 'period': 1.0, 'QV': 0.03970771949876551, 'inventory': 500}, 'action': 0, 'reward': 336.14851498722703, 'next_state': {'Price': 0.5060404164876432, 'volume': 0.21745078938686652, 'Trend': 1.3455781398248938, 'period': 2.0, 'QV': -0.3511687184878373, 'inventory': 500}, 'dist2Horizon': 3.0}),\n",
       "       ExperienceDict({'state': {'Price': 0.5060404164876432, 'volume': 0.21745078938686652, 'Trend': 1.3455781398248938, 'period': 2.0, 'QV': -0.3511687184878373, 'inventory': 500}, 'action': 0, 'reward': 209.79219372349326, 'next_state': {'Price': 0.7831733143693048, 'volume': -0.07064614627634914, 'Trend': 0.5355557386022408, 'period': 3.0, 'QV': -0.41206846818606496, 'inventory': 500}, 'dist2Horizon': 2.0}),\n",
       "       ExperienceDict({'state': {'Price': 0.7831733143693048, 'volume': -0.07064614627634914, 'Trend': 0.5355557386022408, 'period': 3.0, 'QV': -0.41206846818606496, 'inventory': 500}, 'action': 0, 'reward': -500.615234758288, 'next_state': {'Price': 0.7831733143693048, 'volume': -0.07064614627634914, 'Trend': 0.5355557386022408, 'period': 4.0, 'QV': -0.41206846818606496, 'inventory': 500}, 'dist2Horizon': 1.0})],\n",
       "      dtype=object)"
      ]
     },
     "execution_count": 19,
     "metadata": {},
     "output_type": "execute_result"
    }
   ],
   "source": [
    "trainer.exp_replay.memory"
   ]
  },
  {
   "cell_type": "code",
   "execution_count": 20,
   "metadata": {},
   "outputs": [
    {
     "ename": "IndexError",
     "evalue": "index 500 is out of bounds for dimension 1 with size 500",
     "output_type": "error",
     "traceback": [
      "\u001b[0;31m---------------------------------------------------------------------------\u001b[0m",
      "\u001b[0;31mIndexError\u001b[0m                                Traceback (most recent call last)",
      "Cell \u001b[0;32mIn[20], line 1\u001b[0m\n\u001b[0;32m----> 1\u001b[0m trainer\u001b[39m.\u001b[39;49mpretrain(max_steps\u001b[39m=\u001b[39;49m\u001b[39m1000\u001b[39;49m, batch_size\u001b[39m=\u001b[39;49m\u001b[39m32\u001b[39;49m)\n",
      "File \u001b[0;32m~/DDQL-optimal-execution/ddql_optimal_execution/trainer/_trainer.py:134\u001b[0m, in \u001b[0;36mTrainer.pretrain\u001b[0;34m(self, max_steps, batch_size)\u001b[0m\n\u001b[1;32m    131\u001b[0m \u001b[39mself\u001b[39m\u001b[39m.\u001b[39m__random_border_actions()\n\u001b[1;32m    133\u001b[0m n_steps \u001b[39m+\u001b[39m\u001b[39m=\u001b[39m \u001b[39m1\u001b[39m\n\u001b[0;32m--> 134\u001b[0m \u001b[39mself\u001b[39;49m\u001b[39m.\u001b[39;49magent\u001b[39m.\u001b[39;49mlearn(\u001b[39mself\u001b[39;49m\u001b[39m.\u001b[39;49mexp_replay\u001b[39m.\u001b[39;49mget_sample(batch_size))\n",
      "File \u001b[0;32m~/DDQL-optimal-execution/ddql_optimal_execution/agent/_ddql.py:238\u001b[0m, in \u001b[0;36mDDQL.learn\u001b[0;34m(self, experience_batch)\u001b[0m\n\u001b[1;32m    236\u001b[0m \u001b[39mfor\u001b[39;00m batch \u001b[39min\u001b[39;00m dataloader:\n\u001b[1;32m    237\u001b[0m     target \u001b[39m=\u001b[39m batch[\u001b[39m2\u001b[39m]\n\u001b[0;32m--> 238\u001b[0m     pred \u001b[39m=\u001b[39m \u001b[39mself\u001b[39;49m\u001b[39m.\u001b[39;49mmain_net(batch[\u001b[39m0\u001b[39;49m])[torch\u001b[39m.\u001b[39;49marange(\u001b[39mlen\u001b[39;49m(batch[\u001b[39m0\u001b[39;49m])), batch[\u001b[39m1\u001b[39;49m]\u001b[39m.\u001b[39;49mlong()]\n\u001b[1;32m    239\u001b[0m     loss \u001b[39m=\u001b[39m \u001b[39mself\u001b[39m\u001b[39m.\u001b[39mloss_fn(pred, target)\n\u001b[1;32m    240\u001b[0m     \u001b[39mself\u001b[39m\u001b[39m.\u001b[39moptimizer\u001b[39m.\u001b[39mzero_grad()\n",
      "\u001b[0;31mIndexError\u001b[0m: index 500 is out of bounds for dimension 1 with size 500"
     ]
    }
   ],
   "source": [
    "trainer.pretrain(max_steps=1000, batch_size=32)"
   ]
  },
  {
   "cell_type": "code",
   "execution_count": 11,
   "metadata": {},
   "outputs": [
    {
     "ename": "TypeError",
     "evalue": "'>' not supported between instances of 'NoneType' and 'int'",
     "output_type": "error",
     "traceback": [
      "\u001b[0;31m---------------------------------------------------------------------------\u001b[0m",
      "\u001b[0;31mTypeError\u001b[0m                                 Traceback (most recent call last)",
      "Cell \u001b[0;32mIn[11], line 6\u001b[0m\n\u001b[1;32m      4\u001b[0m current_state \u001b[39m=\u001b[39m env\u001b[39m.\u001b[39mstate\u001b[39m.\u001b[39mcopy()\n\u001b[1;32m      5\u001b[0m action \u001b[39m=\u001b[39m agent(current_state)\n\u001b[0;32m----> 6\u001b[0m reward \u001b[39m=\u001b[39m env\u001b[39m.\u001b[39;49mstep(action)\n\u001b[1;32m      8\u001b[0m distance2horizon \u001b[39m=\u001b[39m env\u001b[39m.\u001b[39mhorizon \u001b[39m-\u001b[39m env\u001b[39m.\u001b[39mstate[\u001b[39m\"\u001b[39m\u001b[39mperiod\u001b[39m\u001b[39m\"\u001b[39m]\n\u001b[1;32m      9\u001b[0m exp_replay\u001b[39m.\u001b[39mpush(current_state, action, reward, env\u001b[39m.\u001b[39mstate\u001b[39m.\u001b[39mcopy(), distance2horizon \u001b[39mif\u001b[39;00m distance2horizon \u001b[39m<\u001b[39m\u001b[39m=\u001b[39m\u001b[39m1\u001b[39m \u001b[39melse\u001b[39;00m \u001b[39m2\u001b[39m)\n",
      "File \u001b[0;32m~/DDQL-optimal-execution/ddql_optimal_execution/environnement/_env.py:162\u001b[0m, in \u001b[0;36mMarketEnvironnement.step\u001b[0;34m(self, action)\u001b[0m\n\u001b[1;32m    148\u001b[0m \u001b[39m\u001b[39m\u001b[39m\"\"\"\u001b[39;00m\n\u001b[1;32m    149\u001b[0m \u001b[39mThis function executes one time step within the environment, raises an error if the action is\u001b[39;00m\n\u001b[1;32m    150\u001b[0m \u001b[39minvalid, executes the action, updates the state, and returns the reward.\u001b[39;00m\n\u001b[0;32m   (...)\u001b[0m\n\u001b[1;32m    158\u001b[0m \u001b[39m  a float value, which is the reward obtained after executing the action in the environment.\u001b[39;00m\n\u001b[1;32m    159\u001b[0m \u001b[39m\"\"\"\u001b[39;00m\n\u001b[1;32m    160\u001b[0m \u001b[39m# Execute one time step within the environment\u001b[39;00m\n\u001b[0;32m--> 162\u001b[0m \u001b[39mif\u001b[39;00m action \u001b[39m>\u001b[39;49m \u001b[39mself\u001b[39;49m\u001b[39m.\u001b[39;49mstate[\u001b[39m\"\u001b[39;49m\u001b[39minventory\u001b[39;49m\u001b[39m\"\u001b[39;49m]:\n\u001b[1;32m    163\u001b[0m     \u001b[39mraise\u001b[39;00m InvalidActionError\n\u001b[1;32m    165\u001b[0m reward \u001b[39m=\u001b[39m \u001b[39mself\u001b[39m\u001b[39m.\u001b[39m__compute_reward(action)\n",
      "\u001b[0;31mTypeError\u001b[0m: '>' not supported between instances of 'NoneType' and 'int'"
     ]
    }
   ],
   "source": [
    "for episode in range(len(env.historical_data_series)):\n",
    "    env.swap_episode(episode)\n",
    "    while not env.done:\n",
    "        current_state = env.state.copy()\n",
    "        action = agent(current_state)\n",
    "        reward = env.step(action)\n",
    "\n",
    "        distance2horizon = env.horizon - env.state[\"period\"]\n",
    "        exp_replay.push(current_state, action, reward, env.state.copy(), distance2horizon if distance2horizon <=1 else 2)\n",
    "    \n",
    "    #agent.learn(exp_replay.sample(128))"
   ]
  },
  {
   "cell_type": "code",
   "execution_count": 44,
   "metadata": {},
   "outputs": [
    {
     "name": "stdout",
     "output_type": "stream",
     "text": [
      "100\n",
      "100\n",
      "100\n",
      "100\n",
      "4\n",
      "4\n",
      "4\n",
      "4\n"
     ]
    }
   ],
   "source": [
    "#test the agent\n",
    "pnl= {'twap':[], 'ddql':[]}\n",
    "env.reset()\n",
    "\n",
    "twap = TWAP( initial_budget=env.initial_inventory, horizon=env.horizon)\n",
    "\n",
    "while not env.done:\n",
    "    current_state = env.state.copy()\n",
    "    action = twap(current_state)\n",
    "    print(action)\n",
    "    _ = env.step(action)\n",
    "    pnl['twap'].append(env.state['Price']*action)\n",
    "\n",
    "env.swap_episode(0)\n",
    "while not env.done:\n",
    "    current_state = env.state.copy()\n",
    "    action = agent(current_state)\n",
    "    print(action)\n",
    "    _ = env.step(action)\n",
    "    pnl['ddql'].append(env.state['Price']*action)\n",
    "\n",
    "\n",
    "\n",
    "\n"
   ]
  },
  {
   "cell_type": "code",
   "execution_count": 45,
   "metadata": {},
   "outputs": [
    {
     "data": {
      "text/plain": [
       "{'twap': [10032.831596704762,\n",
       "  10057.83773444726,\n",
       "  10077.65335403738,\n",
       "  10077.65335403738],\n",
       " 'ddql': [401.31326386819046,\n",
       "  402.3135093778904,\n",
       "  403.1061341614952,\n",
       "  403.1061341614952]}"
      ]
     },
     "execution_count": 45,
     "metadata": {},
     "output_type": "execute_result"
    }
   ],
   "source": [
    "pnl"
   ]
  },
  {
   "cell_type": "code",
   "execution_count": 40,
   "metadata": {},
   "outputs": [
    {
     "data": {
      "text/plain": [
       "[<matplotlib.lines.Line2D at 0x11ce40110>]"
      ]
     },
     "execution_count": 40,
     "metadata": {},
     "output_type": "execute_result"
    },
    {
     "data": {
      "image/png": "[encoded data removed]",
      "text/plain": [
       "<Figure size 640x480 with 1 Axes>"
      ]
     },
     "metadata": {},
     "output_type": "display_data"
    }
   ],
   "source": [
    "plt.plot(pnl['twap'], label='twap')\n",
    "plt.plot(pnl['ddql'], label='ddql')"
   ]
  },
  {
   "cell_type": "code",
   "execution_count": 73,
   "metadata": {},
   "outputs": [
    {
     "name": "stdout",
     "output_type": "stream",
     "text": [
      "3\n"
     ]
    }
   ],
   "source": [
    "agent.learn(exp_replay.memory)"
   ]
  },
  {
   "cell_type": "code",
   "execution_count": 11,
   "metadata": {},
   "outputs": [
    {
     "data": {
      "image/png": "[encoded data removed]",
      "text/plain": [
       "<Figure size 640x480 with 1 Axes>"
      ]
     },
     "metadata": {},
     "output_type": "display_data"
    },
    {
     "ename": "NameError",
     "evalue": "name 'np' is not defined",
     "output_type": "error",
     "traceback": [
      "\u001b[0;31m---------------------------------------------------------------------------\u001b[0m",
      "\u001b[0;31mNameError\u001b[0m                                 Traceback (most recent call last)",
      "Cell \u001b[0;32mIn[11], line 5\u001b[0m\n\u001b[1;32m      2\u001b[0m plt\u001b[39m.\u001b[39mhist(rewards, bins\u001b[39m=\u001b[39m\u001b[39m100\u001b[39m, density\u001b[39m=\u001b[39m\u001b[39mTrue\u001b[39;00m)\n\u001b[1;32m      3\u001b[0m plt\u001b[39m.\u001b[39mshow()\n\u001b[0;32m----> 5\u001b[0m \u001b[39mprint\u001b[39m(\u001b[39mf\u001b[39m\u001b[39m\"\u001b[39m\u001b[39mmean reward: \u001b[39m\u001b[39m{\u001b[39;00mnp\u001b[39m.\u001b[39mmean(rewards)\u001b[39m}\u001b[39;00m\u001b[39m\"\u001b[39m)\n\u001b[1;32m      6\u001b[0m \u001b[39mprint\u001b[39m(\u001b[39mf\u001b[39m\u001b[39m\"\u001b[39m\u001b[39mstd reward: \u001b[39m\u001b[39m{\u001b[39;00mnp\u001b[39m.\u001b[39mstd(rewards)\u001b[39m}\u001b[39;00m\u001b[39m\"\u001b[39m)\n",
      "\u001b[0;31mNameError\u001b[0m: name 'np' is not defined"
     ]
    }
   ],
   "source": [
    "#distribution of rewards\n",
    "plt.hist(rewards, bins=100, density=True)\n",
    "plt.show()\n",
    "\n",
    "print(f\"mean reward: {np.mean(rewards)}\")\n",
    "print(f\"std reward: {np.std(rewards)}\")"
   ]
  },
  {
   "cell_type": "code",
   "execution_count": 6,
   "metadata": {},
   "outputs": [],
   "source": [
    "\n",
    "# Draft Martial\n",
    "\n",
    "import pandas as pd\n",
    "import numpy as np\n",
    "\n",
    "def fake_data(S : float = 100, r : float = 0.1, sigma : float = 0.2, start='2022-01-01 11:00:01', end='2022-01-01 13:00:00'):\n",
    "    # Creation of the dataset output\n",
    "    data = pd.DataFrame(pd.date_range(start=start, end=end,  freq = \"s\"), columns=['Date'])\n",
    "    num_points, _ = np.shape(data)\n",
    "\n",
    "    # Simulate a Black-Scholes trajectory\n",
    "    dt = 1/252/6.5/3600 # scale of a second\n",
    "    drift = (r - 0.5 * sigma**2) * dt\n",
    "    diffusion = sigma * np.sqrt(dt) * np.random.normal(size=num_points - 1)\n",
    "    log_returns = np.concatenate([[0], drift + diffusion])\n",
    "    log_prices = np.cumsum(log_returns)\n",
    "    prices = S * np.exp(log_prices)\n",
    "    \n",
    "    data[\"Price\"] = prices\n",
    "    data.set_index('Date', inplace=True)\n",
    "\n",
    "\n",
    "    return data\n"
   ]
  },
  {
   "cell_type": "code",
   "execution_count": 7,
   "metadata": {},
   "outputs": [],
   "source": [
    "for i in range(100):\n",
    "    fake_data(start=\"2022-01-01 11:00:01\", end=\"2022-01-01 12:00:00\").to_csv(f\"../data/fake_data_{i}.csv\")\n",
    "    fake_data(start=\"2022-01-01 12:00:01\", end=\"2022-01-01 13:00:00\").to_csv(f\"../data/fake_data_{i+100}.csv\")\n",
    "    fake_data(start=\"2022-01-01 13:00:01\", end=\"2022-01-01 14:00:00\").to_csv(f\"../data/fake_data_{i+200}.csv\")"
   ]
  },
  {
   "cell_type": "code",
   "execution_count": null,
   "metadata": {},
   "outputs": [],
   "source": []
  }
 ],
 "metadata": {
  "kernelspec": {
   "display_name": "Python 3",
   "language": "python",
   "name": "python3"
  },
  "language_info": {
   "codemirror_mode": {
    "name": "ipython",
    "version": 3
   },
   "file_extension": ".py",
   "mimetype": "text/x-python",
   "name": "python",
   "nbconvert_exporter": "python",
   "pygments_lexer": "ipython3",
   "version": "3.11.0"
  },
  "orig_nbformat": 4
 },
 "nbformat": 4,
 "nbformat_minor": 2
}
