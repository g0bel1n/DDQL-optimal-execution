{
 "cells": [
  {
   "cell_type": "code",
   "execution_count": 1,
   "metadata": {},
   "outputs": [],
   "source": [
    "import sys \n",
    "import os\n",
    "\n",
    "# Add the parent directory to the path if it's not already there\n",
    "if os.path.abspath('..') not in sys.path:\n",
    "    sys.path.append(os.path.abspath('..'))"
   ]
  },
  {
   "cell_type": "code",
   "execution_count": 2,
   "metadata": {},
   "outputs": [],
   "source": [
    "%load_ext autoreload\n",
    "%autoreload 2"
   ]
  },
  {
   "cell_type": "code",
   "execution_count": 80,
   "metadata": {},
   "outputs": [],
   "source": [
    "from src import DDQL, MarketEnvironnement, ExperienceReplay\n",
    "import matplotlib.pyplot as plt"
   ]
  },
  {
   "cell_type": "code",
   "execution_count": 91,
   "metadata": {},
   "outputs": [],
   "source": [
    "env = MarketEnvironnement(initial_inventory=500, multi_episodes=True)"
   ]
  },
  {
   "cell_type": "code",
   "execution_count": 92,
   "metadata": {},
   "outputs": [
    {
     "name": "stdout",
     "output_type": "stream",
     "text": [
      "Using cpu device\n"
     ]
    }
   ],
   "source": [
    "agent = DDQL(state_size=env.state_size, initial_budget=env.initial_inventory, horizon=env.horizon)"
   ]
  },
  {
   "cell_type": "code",
   "execution_count": 93,
   "metadata": {},
   "outputs": [],
   "source": [
    "env.reset()"
   ]
  },
  {
   "cell_type": "code",
   "execution_count": 94,
   "metadata": {},
   "outputs": [],
   "source": [
    "exp_replay = ExperienceReplay(state_size=env.state_size, capacity=1000)"
   ]
  },
  {
   "cell_type": "code",
   "execution_count": 95,
   "metadata": {},
   "outputs": [],
   "source": [
    "for _ in range(100):\n",
    "    env.reset()\n",
    "    while not env.done:\n",
    "        current_state = env.state.copy()\n",
    "        action = agent(current_state)\n",
    "        reward = env.step(action)\n",
    "\n",
    "        distance2horizon = env.horizon - env.state[\"period\"]\n",
    "        exp_replay.push(current_state, action, reward, env.state.copy(), distance2horizon if distance2horizon <=1 else 2)\n",
    "\n",
    "    \n"
   ]
  },
  {
   "cell_type": "code",
   "execution_count": 96,
   "metadata": {},
   "outputs": [
    {
     "data": {
      "text/plain": [
       "array([ExperienceDict({'state': {'Price': 100.0, 'period': 0.0, 'inventory': 500}, 'action': 312, 'reward': -23.226960513868825, 'next_state': {'Price': 99.97919995898276, 'period': 1.0, 'inventory': 188}, 'done': 2}),\n",
       "       ExperienceDict({'state': {'Price': 99.97919995898276, 'period': 1.0, 'inventory': 188}, 'action': 30, 'reward': 6.2329980625653105, 'next_state': {'Price': 100.02565870640524, 'period': 2.0, 'inventory': 158}, 'done': 2}),\n",
       "       ExperienceDict({'state': {'Price': 100.02565870640524, 'period': 2.0, 'inventory': 158}, 'action': 30, 'reward': 2.6753447151070864, 'next_state': {'Price': 100.03812071362188, 'period': 3.0, 'inventory': 128}, 'done': 2}),\n",
       "       ExperienceDict({'state': {'Price': 100.03812071362188, 'period': 3.0, 'inventory': 128}, 'action': 1, 'reward': -4.004965702136202, 'next_state': {'Price': 100.0218991571232, 'period': 4.0, 'inventory': 127}, 'done': 2}),\n",
       "       ExperienceDict({'state': {'Price': 100.0218991571232, 'period': 4.0, 'inventory': 127}, 'action': 0, 'reward': -1.5891716273354177, 'next_state': {'Price': 100.01499206173848, 'period': 5.0, 'inventory': 127}, 'done': 2}),\n",
       "       ExperienceDict({'state': {'Price': 100.01499206173848, 'period': 5.0, 'inventory': 127}, 'action': 30, 'reward': -3.088855414582625, 'next_state': {'Price': 100.00584735316215, 'period': 6.0, 'inventory': 97}, 'done': 2}),\n",
       "       ExperienceDict({'state': {'Price': 100.00584735316215, 'period': 6.0, 'inventory': 97}, 'action': 30, 'reward': 4.648070450121155, 'next_state': {'Price': 100.04518696608548, 'period': 7.0, 'inventory': 67}, 'done': 2}),\n",
       "       ExperienceDict({'state': {'Price': 100.04518696608548, 'period': 7.0, 'inventory': 67}, 'action': 30, 'reward': -3.3428902211592386, 'next_state': {'Price': 99.98617317666084, 'period': 8.0, 'inventory': 37}, 'done': 2}),\n",
       "       ExperienceDict({'state': {'Price': 99.98617317666084, 'period': 8.0, 'inventory': 37}, 'action': 2, 'reward': -0.35537411611808584, 'next_state': {'Price': 99.97830072719913, 'period': 9.0, 'inventory': 35}, 'done': 2}),\n",
       "       ExperienceDict({'state': {'Price': 99.97830072719913, 'period': 9.0, 'inventory': 35}, 'action': 30, 'reward': -0.7335373477600843, 'next_state': {'Price': 99.9537399706429, 'period': 10.0, 'inventory': 5}, 'done': 2}),\n",
       "       ExperienceDict({'state': {'Price': 99.9537399706429, 'period': 10.0, 'inventory': 5}, 'action': 0, 'reward': 0.14175811738489585, 'next_state': {'Price': 99.97607944680716, 'period': 11.0, 'inventory': 5}, 'done': 2}),\n",
       "       ExperienceDict({'state': {'Price': 99.97607944680716, 'period': 11.0, 'inventory': 5}, 'action': 1, 'reward': -0.33421159701060205, 'next_state': {'Price': 99.89472737208264, 'period': 12.0, 'inventory': 4}, 'done': 2}),\n",
       "       ExperienceDict({'state': {'Price': 99.89472737208264, 'period': 12.0, 'inventory': 4}, 'action': 1, 'reward': 0.08110300328087097, 'next_state': {'Price': 99.91838323531096, 'period': 13.0, 'inventory': 3}, 'done': 2}),\n",
       "       ExperienceDict({'state': {'Price': 99.91838323531096, 'period': 13.0, 'inventory': 3}, 'action': 2, 'reward': 0.017299505445814815, 'next_state': {'Price': 99.88442839635783, 'period': 14.0, 'inventory': 1}, 'done': 2}),\n",
       "       ExperienceDict({'state': {'Price': 99.88442839635783, 'period': 14.0, 'inventory': 1}, 'action': 1, 'reward': 0.028126977400262595, 'next_state': {'Price': 99.88442839635783, 'period': 15.0, 'inventory': 0}, 'done': 2}),\n",
       "       None, None, None, None, None, None, None, None, None, None, None,\n",
       "       None, None, None, None, None, None, None, None, None, None, None,\n",
       "       None, None, None, None, None, None, None, None, None, None, None,\n",
       "       None, None, None, None, None, None, None, None, None, None, None,\n",
       "       None, None, None, None, None, None, None, None, None, None, None,\n",
       "       None, None, None, None, None, None, None, None, None, None, None,\n",
       "       None, None, None, None, None, None, None, None, None, None, None,\n",
       "       None, None, None, None, None, None, None, None, None, None, None,\n",
       "       None, None, None, None, None, None, None, None, None, None, None,\n",
       "       None, None, None, None, None, None, None, None, None, None, None,\n",
       "       None, None, None, None, None, None, None, None, None, None, None,\n",
       "       None, None, None, None, None, None, None, None, None, None, None,\n",
       "       None, None, None, None, None, None, None, None, None, None, None,\n",
       "       None, None, None, None, None, None, None, None, None, None, None,\n",
       "       None, None, None, None, None, None, None, None, None, None, None,\n",
       "       None, None, None, None, None, None, None, None, None, None, None,\n",
       "       None, None, None, None, None, None, None, None, None, None, None,\n",
       "       None, None, None, None, None, None, None, None, None, None, None,\n",
       "       None, None, None, None, None, None, None, None, None, None, None,\n",
       "       None, None, None, None, None, None, None, None, None, None, None,\n",
       "       None, None, None, None, None, None, None, None, None, None, None,\n",
       "       None, None, None, None, None, None, None, None, None, None, None,\n",
       "       None, None, None, None, None, None, None, None, None, None, None,\n",
       "       None, None, None, None, None, None, None, None, None, None, None,\n",
       "       None, None, None, None, None, None, None, None, None, None, None,\n",
       "       None, None, None, None, None, None, None, None, None, None, None,\n",
       "       None, None, None, None, None, None, None, None, None, None, None,\n",
       "       None, None, None, None, None, None, None, None, None, None, None,\n",
       "       None, None, None, None, None, None, None, None, None, None, None,\n",
       "       None, None, None, None, None, None, None, None, None, None, None,\n",
       "       None, None, None, None, None, None, None, None, None, None, None,\n",
       "       None, None, None, None, None, None, None, None, None, None, None,\n",
       "       None, None, None, None, None, None, None, None, None, None, None,\n",
       "       None, None, None, None, None, None, None, None, None, None, None,\n",
       "       None, None, None, None, None, None, None, None, None, None, None,\n",
       "       None, None, None, None, None, None, None, None, None, None, None,\n",
       "       None, None, None, None, None, None, None, None, None, None, None,\n",
       "       None, None, None, None, None, None, None, None, None, None, None,\n",
       "       None, None, None, None, None, None, None, None, None, None, None,\n",
       "       None, None, None, None, None, None, None, None, None, None, None,\n",
       "       None, None, None, None, None, None, None, None, None, None, None,\n",
       "       None, None, None, None, None, None, None, None, None, None, None,\n",
       "       None, None, None, None, None, None, None, None, None, None, None,\n",
       "       None, None, None, None, None, None, None, None, None, None, None,\n",
       "       None, None, None, None, None, None, None, None, None, None, None,\n",
       "       None, None, None, None, None, None, None, None, None, None, None,\n",
       "       None, None, None, None, None, None, None, None, None, None, None,\n",
       "       None, None, None, None, None, None, None, None, None, None, None,\n",
       "       None, None, None, None, None, None, None, None, None, None, None,\n",
       "       None, None, None, None, None, None, None, None, None, None, None,\n",
       "       None, None, None, None, None, None, None, None, None, None, None,\n",
       "       None, None, None, None, None, None, None, None, None, None, None,\n",
       "       None, None, None, None, None, None, None, None, None, None, None,\n",
       "       None, None, None, None, None, None, None, None, None, None, None,\n",
       "       None, None, None, None, None, None, None, None, None, None, None,\n",
       "       None, None, None, None, None, None, None, None, None, None, None,\n",
       "       None, None, None, None, None, None, None, None, None, None, None,\n",
       "       None, None, None, None, None, None, None, None, None, None, None,\n",
       "       None, None, None, None, None, None, None, None, None, None, None,\n",
       "       None, None, None, None, None, None, None, None, None, None, None,\n",
       "       None, None, None, None, None, None, None, None, None, None, None,\n",
       "       None, None, None, None, None, None, None, None, None, None, None,\n",
       "       None, None, None, None, None, None, None, None, None, None, None,\n",
       "       None, None, None, None, None, None, None, None, None, None, None,\n",
       "       None, None, None, None, None, None, None, None, None, None, None,\n",
       "       None, None, None, None, None, None, None, None, None, None, None,\n",
       "       None, None, None, None, None, None, None, None, None, None, None,\n",
       "       None, None, None, None, None, None, None, None, None, None, None,\n",
       "       None, None, None, None, None, None, None, None, None, None, None,\n",
       "       None, None, None, None, None, None, None, None, None, None, None,\n",
       "       None, None, None, None, None, None, None, None, None, None, None,\n",
       "       None, None, None, None, None, None, None, None, None, None, None,\n",
       "       None, None, None, None, None, None, None, None, None, None, None,\n",
       "       None, None, None, None, None, None, None, None, None, None, None,\n",
       "       None, None, None, None, None, None, None, None, None, None, None,\n",
       "       None, None, None, None, None, None, None, None, None, None, None,\n",
       "       None, None, None, None, None, None, None, None, None, None, None,\n",
       "       None, None, None, None, None, None, None, None, None, None, None,\n",
       "       None, None, None, None, None, None, None, None, None, None, None,\n",
       "       None, None, None, None, None, None, None, None, None, None, None,\n",
       "       None, None, None, None, None, None, None, None, None, None, None,\n",
       "       None, None, None, None, None, None, None, None, None, None, None,\n",
       "       None, None, None, None, None, None, None, None, None, None, None,\n",
       "       None, None, None, None, None, None, None, None, None, None, None,\n",
       "       None, None, None, None, None, None, None, None, None, None, None,\n",
       "       None, None, None, None, None, None, None, None, None, None, None,\n",
       "       None, None, None, None, None, None, None, None, None, None, None,\n",
       "       None, None, None, None, None, None, None, None, None, None, None,\n",
       "       None, None, None, None, None, None, None, None, None, None, None,\n",
       "       None, None, None, None, None, None], dtype=object)"
      ]
     },
     "execution_count": 96,
     "metadata": {},
     "output_type": "execute_result"
    }
   ],
   "source": []
  },
  {
   "cell_type": "code",
   "execution_count": 73,
   "metadata": {},
   "outputs": [
    {
     "name": "stdout",
     "output_type": "stream",
     "text": [
      "3\n"
     ]
    }
   ],
   "source": [
    "agent.learn(exp_replay.memory)"
   ]
  },
  {
   "cell_type": "code",
   "execution_count": 11,
   "metadata": {},
   "outputs": [
    {
     "data": {
      "image/png": "[encoded data removed]",
      "text/plain": [
       "<Figure size 640x480 with 1 Axes>"
      ]
     },
     "metadata": {},
     "output_type": "display_data"
    },
    {
     "ename": "NameError",
     "evalue": "name 'np' is not defined",
     "output_type": "error",
     "traceback": [
      "\u001b[0;31m---------------------------------------------------------------------------\u001b[0m",
      "\u001b[0;31mNameError\u001b[0m                                 Traceback (most recent call last)",
      "Cell \u001b[0;32mIn[11], line 5\u001b[0m\n\u001b[1;32m      2\u001b[0m plt\u001b[39m.\u001b[39mhist(rewards, bins\u001b[39m=\u001b[39m\u001b[39m100\u001b[39m, density\u001b[39m=\u001b[39m\u001b[39mTrue\u001b[39;00m)\n\u001b[1;32m      3\u001b[0m plt\u001b[39m.\u001b[39mshow()\n\u001b[0;32m----> 5\u001b[0m \u001b[39mprint\u001b[39m(\u001b[39mf\u001b[39m\u001b[39m\"\u001b[39m\u001b[39mmean reward: \u001b[39m\u001b[39m{\u001b[39;00mnp\u001b[39m.\u001b[39mmean(rewards)\u001b[39m}\u001b[39;00m\u001b[39m\"\u001b[39m)\n\u001b[1;32m      6\u001b[0m \u001b[39mprint\u001b[39m(\u001b[39mf\u001b[39m\u001b[39m\"\u001b[39m\u001b[39mstd reward: \u001b[39m\u001b[39m{\u001b[39;00mnp\u001b[39m.\u001b[39mstd(rewards)\u001b[39m}\u001b[39;00m\u001b[39m\"\u001b[39m)\n",
      "\u001b[0;31mNameError\u001b[0m: name 'np' is not defined"
     ]
    }
   ],
   "source": [
    "#distribution of rewards\n",
    "plt.hist(rewards, bins=100, density=True)\n",
    "plt.show()\n",
    "\n",
    "print(f\"mean reward: {np.mean(rewards)}\")\n",
    "print(f\"std reward: {np.std(rewards)}\")"
   ]
  },
  {
   "cell_type": "code",
   "execution_count": 106,
   "metadata": {},
   "outputs": [],
   "source": [
    "\n",
    "# Draft Martial\n",
    "\n",
    "import pandas as pd\n",
    "import numpy as np\n",
    "\n",
    "def fake_data(S : float = 100, r : float = 0.1, sigma : float = 0.2):\n",
    "    # Creation of the dataset output\n",
    "    data = pd.DataFrame(pd.date_range(start='2022-01-01 11:00:01', end='2022-01-01 13:00:00', freq = \"s\"), columns=['Date'])\n",
    "    num_points, _ = np.shape(data)\n",
    "\n",
    "    # Simulate a Black-Scholes trajectory\n",
    "    dt = 1/252/6.5/3600 # scale of a second\n",
    "    drift = (r - 0.5 * sigma**2) * dt\n",
    "    diffusion = sigma * np.sqrt(dt) * np.random.normal(size=num_points - 1)\n",
    "    log_returns = np.concatenate([[0], drift + diffusion])\n",
    "    log_prices = np.cumsum(log_returns)\n",
    "    prices = S * np.exp(log_prices)\n",
    "    \n",
    "    data[\"Price\"] = prices\n",
    "    data.set_index('Date', inplace=True)\n",
    "\n",
    "\n",
    "    return data\n"
   ]
  },
  {
   "cell_type": "code",
   "execution_count": 107,
   "metadata": {},
   "outputs": [],
   "source": [
    "a, b, c = fake_data(), fake_data(), fake_data()"
   ]
  },
  {
   "cell_type": "code",
   "execution_count": 108,
   "metadata": {},
   "outputs": [],
   "source": [
    "c.to_csv('../data/historical_data_1.csv')"
   ]
  },
  {
   "cell_type": "code",
   "execution_count": 71,
   "metadata": {},
   "outputs": [
    {
     "name": "stdout",
     "output_type": "stream",
     "text": [
      "(0,                           Price\n",
      "Date                           \n",
      "2022-01-01 11:00:01  100.000000\n",
      "2022-01-01 11:00:02   99.997536\n",
      "2022-01-01 11:00:03  100.004751\n",
      "2022-01-01 11:00:04  100.019533\n",
      "2022-01-01 11:00:05  100.018362\n",
      "...                         ...\n",
      "2022-01-01 11:11:56  100.101370\n",
      "2022-01-01 11:11:57  100.101435\n",
      "2022-01-01 11:11:58  100.100410\n",
      "2022-01-01 11:11:59  100.104073\n",
      "2022-01-01 11:12:00  100.111706\n",
      "\n",
      "[720 rows x 1 columns])\n"
     ]
    }
   ],
   "source": [
    "print(next(enumerate(np.split(a, 10))))"
   ]
  },
  {
   "cell_type": "code",
   "execution_count": 42,
   "metadata": {},
   "outputs": [
    {
     "data": {
      "text/plain": [
       "array([[100.        ],\n",
       "       [100.00866308],\n",
       "       [100.01940408],\n",
       "       ...,\n",
       "       [ 99.23107155],\n",
       "       [ 99.2341913 ],\n",
       "       [ 99.22637508]])"
      ]
     },
     "execution_count": 42,
     "metadata": {},
     "output_type": "execute_result"
    }
   ],
   "source": [
    "a.values"
   ]
  },
  {
   "cell_type": "code",
   "execution_count": null,
   "metadata": {},
   "outputs": [],
   "source": []
  }
 ],
 "metadata": {
  "kernelspec": {
   "display_name": "Python 3",
   "language": "python",
   "name": "python3"
  },
  "language_info": {
   "codemirror_mode": {
    "name": "ipython",
    "version": 3
   },
   "file_extension": ".py",
   "mimetype": "text/x-python",
   "name": "python",
   "nbconvert_exporter": "python",
   "pygments_lexer": "ipython3",
   "version": "3.11.0"
  },
  "orig_nbformat": 4
 },
 "nbformat": 4,
 "nbformat_minor": 2
}
