{
 "cells": [
  {
   "cell_type": "code",
   "execution_count": 1,
   "metadata": {},
   "outputs": [],
   "source": [
    "import sys \n",
    "import os\n",
    "\n",
    "# Add the parent directory to the path if it's not already there\n",
    "if os.path.abspath('..') not in sys.path:\n",
    "    sys.path.append(os.path.abspath('..'))"
   ]
  },
  {
   "cell_type": "code",
   "execution_count": 2,
   "metadata": {},
   "outputs": [],
   "source": [
    "%load_ext autoreload\n",
    "%autoreload 2"
   ]
  },
  {
   "cell_type": "code",
   "execution_count": 3,
   "metadata": {},
   "outputs": [],
   "source": [
    "from src import DDQL, MarketEnvironnement\n",
    "import matplotlib.pyplot as plt"
   ]
  },
  {
   "cell_type": "code",
   "execution_count": null,
   "metadata": {},
   "outputs": [],
   "source": []
  },
  {
   "cell_type": "code",
   "execution_count": 48,
   "metadata": {},
   "outputs": [],
   "source": [
    "me = MarketEnvironnement(initial_inventory=100)\n",
    "\n"
   ]
  },
  {
   "cell_type": "code",
   "execution_count": 64,
   "metadata": {},
   "outputs": [],
   "source": [
    "me.reset()"
   ]
  },
  {
   "cell_type": "code",
   "execution_count": null,
   "metadata": {},
   "outputs": [],
   "source": []
  },
  {
   "cell_type": "code",
   "execution_count": 72,
   "metadata": {},
   "outputs": [],
   "source": [
    "rewards = []\n",
    "for _ in range(10000):\n",
    "    while not me.done:\n",
    "        x = np.random.randint(0, me.state['inventory']+1)\n",
    "        me.step(x)\n",
    "    rewards.append(me.state['reward'])\n",
    "    me.reset()"
   ]
  },
  {
   "cell_type": "code",
   "execution_count": null,
   "metadata": {},
   "outputs": [],
   "source": []
  },
  {
   "cell_type": "code",
   "execution_count": 77,
   "metadata": {},
   "outputs": [
    {
     "data": {
      "image/png": "[encoded data removed]",
      "text/plain": [
       "<Figure size 640x480 with 1 Axes>"
      ]
     },
     "metadata": {},
     "output_type": "display_data"
    },
    {
     "name": "stdout",
     "output_type": "stream",
     "text": [
      "mean reward: 0.08823779078128062\n",
      "std reward: 0.680772062349897\n"
     ]
    }
   ],
   "source": [
    "#distribution of rewards\n",
    "plt.hist(rewards, bins=100, density=True)\n",
    "plt.show()\n",
    "\n",
    "print(f\"mean reward: {np.mean(rewards)}\")\n",
    "print(f\"std reward: {np.std(rewards)}\")"
   ]
  },
  {
   "cell_type": "code",
   "execution_count": 43,
   "metadata": {},
   "outputs": [],
   "source": [
    "\n",
    "# Draft Martial\n",
    "\n",
    "import pandas as pd\n",
    "import numpy as np\n",
    "\n",
    "def fake_data(S : float = 100, r : float = 0.1, sigma : float = 0.2):\n",
    "    # Creation of the dataset output\n",
    "    data = pd.DataFrame(pd.date_range(start='2022-01-01 11:00:01', end='2022-01-01 13:00:00', freq = \"s\"), columns=['Date'])\n",
    "    num_points, _ = np.shape(data)\n",
    "\n",
    "    # Simulate a Black-Scholes trajectory\n",
    "    dt = 1/252/6.5/3600 # scale of a second\n",
    "    drift = (r - 0.5 * sigma**2) * dt\n",
    "    diffusion = sigma * np.sqrt(dt) * np.random.normal(size=num_points - 1)\n",
    "    log_returns = np.concatenate([[0], drift + diffusion])\n",
    "    log_prices = np.cumsum(log_returns)\n",
    "    prices = S * np.exp(log_prices)\n",
    "    \n",
    "    data[\"Price\"] = prices\n",
    "    data.set_index('Date', inplace=True)\n",
    "\n",
    "\n",
    "    return data\n"
   ]
  },
  {
   "cell_type": "code",
   "execution_count": 44,
   "metadata": {},
   "outputs": [],
   "source": [
    "a, b, c = fake_data(), fake_data(), fake_data()"
   ]
  },
  {
   "cell_type": "code",
   "execution_count": 45,
   "metadata": {},
   "outputs": [],
   "source": [
    "a.to_csv('../data/historical_data.csv')"
   ]
  },
  {
   "cell_type": "code",
   "execution_count": 71,
   "metadata": {},
   "outputs": [
    {
     "name": "stdout",
     "output_type": "stream",
     "text": [
      "(0,                           Price\n",
      "Date                           \n",
      "2022-01-01 11:00:01  100.000000\n",
      "2022-01-01 11:00:02   99.997536\n",
      "2022-01-01 11:00:03  100.004751\n",
      "2022-01-01 11:00:04  100.019533\n",
      "2022-01-01 11:00:05  100.018362\n",
      "...                         ...\n",
      "2022-01-01 11:11:56  100.101370\n",
      "2022-01-01 11:11:57  100.101435\n",
      "2022-01-01 11:11:58  100.100410\n",
      "2022-01-01 11:11:59  100.104073\n",
      "2022-01-01 11:12:00  100.111706\n",
      "\n",
      "[720 rows x 1 columns])\n"
     ]
    }
   ],
   "source": [
    "print(next(enumerate(np.split(a, 10))))"
   ]
  },
  {
   "cell_type": "code",
   "execution_count": 42,
   "metadata": {},
   "outputs": [
    {
     "data": {
      "text/plain": [
       "array([[100.        ],\n",
       "       [100.00866308],\n",
       "       [100.01940408],\n",
       "       ...,\n",
       "       [ 99.23107155],\n",
       "       [ 99.2341913 ],\n",
       "       [ 99.22637508]])"
      ]
     },
     "execution_count": 42,
     "metadata": {},
     "output_type": "execute_result"
    }
   ],
   "source": [
    "a.values"
   ]
  },
  {
   "cell_type": "code",
   "execution_count": null,
   "metadata": {},
   "outputs": [],
   "source": []
  }
 ],
 "metadata": {
  "kernelspec": {
   "display_name": "Python 3",
   "language": "python",
   "name": "python3"
  },
  "language_info": {
   "codemirror_mode": {
    "name": "ipython",
    "version": 3
   },
   "file_extension": ".py",
   "mimetype": "text/x-python",
   "name": "python",
   "nbconvert_exporter": "python",
   "pygments_lexer": "ipython3",
   "version": "3.11.0"
  },
  "orig_nbformat": 4
 },
 "nbformat": 4,
 "nbformat_minor": 2
}
